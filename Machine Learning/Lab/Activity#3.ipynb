{
 "cells": [
  {
   "cell_type": "code",
   "execution_count": 17,
   "metadata": {},
   "outputs": [
    {
     "name": "stdout",
     "output_type": "stream",
     "text": [
      "Standardized Data:\n",
      "   Daily Steps  Hours of Sleep  Daily Calorie Intake\n",
      "0    -0.073721        0.267261             -0.464991\n",
      "1    -1.548141       -1.069045             -1.627467\n",
      "2     1.400699        1.603567              1.278724\n",
      "3    -0.442326        0.267261              0.116248\n",
      "4     0.663489       -1.069045              0.697486\n"
     ]
    }
   ],
   "source": [
    "import pandas as pd\n",
    "import numpy as np\n",
    "from sklearn.preprocessing import StandardScaler\n",
    "\n",
    "# สร้าง DataFrame\n",
    "data = {\n",
    "    'Daily Steps': [8000, 6000, 10000, 7500, 9000],\n",
    "    'Hours of Sleep': [7, 6, 8, 7, 6],\n",
    "    'Daily Calorie Intake': [2200, 2000, 2500, 2300, 2400]\n",
    "}\n",
    "\n",
    "df = pd.DataFrame(data)\n",
    "\n",
    "# Standardize ข้อมูล\n",
    "scaler = StandardScaler()\n",
    "df_standardized = pd.DataFrame(scaler.fit_transform(df), columns=df.columns)\n",
    "mean_values = scaler.mean_\n",
    "std_dev_values = np.sqrt(scaler.var_)\n",
    "\n",
    "# แสดงผลลัพธ์\n",
    "print(\"Standardized Data:\")\n",
    "print(df_standardized)\n"
   ]
  },
  {
   "cell_type": "code",
   "execution_count": 18,
   "metadata": {},
   "outputs": [
    {
     "name": "stdout",
     "output_type": "stream",
     "text": [
      "Eigenvalues:\n",
      "[3.06132691 0.6282033  0.06046978]\n",
      "\n",
      "Percentage of Eigenvalues:\n",
      "[81.6353844  16.75208811  1.61252749]\n"
     ]
    }
   ],
   "source": [
    "from sklearn.decomposition import PCA\n",
    "\n",
    "# ทำ PCA\n",
    "pca = PCA()\n",
    "pca.fit(df_standardized)\n",
    "\n",
    "# คำนวณ eigenvalue\n",
    "eigenvalues = pca.explained_variance_\n",
    "\n",
    "# คำนวณ percentage of eigenvalue\n",
    "percentage_of_eigenvalues = eigenvalues / sum(eigenvalues) * 100\n",
    "\n",
    "# แสดงผลลัพธ์\n",
    "print(\"Eigenvalues:\")\n",
    "print(eigenvalues)\n",
    "print(\"\\nPercentage of Eigenvalues:\")\n",
    "print(percentage_of_eigenvalues)\n"
   ]
  },
  {
   "cell_type": "code",
   "execution_count": 19,
   "metadata": {},
   "outputs": [
    {
     "name": "stdout",
     "output_type": "stream",
     "text": [
      "PCA Result (n_components=3):\n",
      "        PC1       PC2       PC3\n",
      "0  0.192642 -0.430669 -0.265505\n",
      "1  2.477648 -0.214868 -0.057761\n",
      "2 -2.445685 -0.427375 -0.067049\n",
      "3  0.064978 -0.336170  0.404181\n",
      "4 -0.289583  1.409081 -0.013865\n"
     ]
    }
   ],
   "source": [
    "# ทำ PCA โดยกำหนด n_components=3\n",
    "pca_3d = PCA(n_components=3)\n",
    "pca_result_3d = pca_3d.fit_transform(df_standardized)\n",
    "\n",
    "# แสดงผลลัพธ์\n",
    "print(\"PCA Result (n_components=3):\")\n",
    "df_pca_3d = pd.DataFrame(data=pca_result_3d, columns=['PC1', 'PC2', 'PC3'])\n",
    "print(df_pca_3d)\n"
   ]
  },
  {
   "cell_type": "code",
   "execution_count": 20,
   "metadata": {},
   "outputs": [
    {
     "name": "stdout",
     "output_type": "stream",
     "text": [
      "Percentage of Variance Explained (n_components=3):\n",
      "[0.81635384 0.16752088 0.01612527]\n"
     ]
    }
   ],
   "source": [
    "# แสดง Percentage of Variance Explained\n",
    "percentage_of_variance_explained = pca_3d.explained_variance_ratio_\n",
    "print(\"Percentage of Variance Explained (n_components=3):\")\n",
    "print(percentage_of_variance_explained)\n"
   ]
  },
  {
   "cell_type": "code",
   "execution_count": 21,
   "metadata": {},
   "outputs": [
    {
     "name": "stdout",
     "output_type": "stream",
     "text": [
      "   Daily Steps  Hours of Sleep  Daily Calorie Intake\n",
      "0    -0.073721        0.267261             -0.464991\n",
      "1    -1.548141       -1.069045             -1.627467\n",
      "2     1.400699        1.603567              1.278724\n",
      "3    -0.442326        0.267261              0.116248\n",
      "4     0.663489       -1.069045              0.697486 [[ 0.19264239 -0.4306685 ]\n",
      " [ 2.47764812 -0.21486839]\n",
      " [-2.44568512 -0.42737451]\n",
      " [ 0.06497801 -0.33616995]\n",
      " [-0.28958339  1.40908134]]\n",
      "        PC1       PC2\n",
      "0  0.192642 -0.430669\n",
      "1  2.477648 -0.214868\n",
      "2 -2.445685 -0.427375\n",
      "3  0.064978 -0.336170\n",
      "4 -0.289583  1.409081\n"
     ]
    }
   ],
   "source": [
    "# ทำ PCA โดยกำหนด n_components=2\n",
    "pca_2d = PCA(n_components=2)\n",
    "pca_result_2d = pca_2d.fit_transform(df_standardized)\n",
    "print(df_standardized,pca_result_2d)\n",
    "\n",
    "# แสดงผลลัพธ์\n",
    "df_pca_2d = pd.DataFrame(data=pca_result_2d, columns=['PC1', 'PC2'])\n",
    "print(df_pca_2d)\n"
   ]
  },
  {
   "cell_type": "code",
   "execution_count": 22,
   "metadata": {},
   "outputs": [],
   "source": [
    "# # สร้าง inverse_transformer จาก PCA object ที่ component=3\n",
    "# inverse_transformer_3 = pca_3d.inverse_transform(pca_result_3d)\n",
    "# print(inverse_transformer_3,\"\\n\")\n",
    "\n",
    "# # Inverse Standardization\n",
    "# inverse_transformed_data_3 = inverse_transformer_3 * std_dev_values + mean_values\n",
    "\n",
    "# print(inverse_transformed_data_3)\n"
   ]
  },
  {
   "cell_type": "code",
   "execution_count": 23,
   "metadata": {},
   "outputs": [
    {
     "name": "stdout",
     "output_type": "stream",
     "text": [
      "Inverse PCA:\n",
      " [[-0.07372098  0.26726124 -0.46499055]\n",
      " [-1.54814054 -1.06904497 -1.62746694]\n",
      " [ 1.40069858  1.60356745  1.27872403]\n",
      " [-0.44232587  0.26726124  0.11624764]\n",
      " [ 0.6634888  -1.06904497  0.69748583]] \n",
      "\n",
      "Inverse Standardization:\n",
      " [[8.0e+03 7.0e+00 2.2e+03]\n",
      " [6.0e+03 6.0e+00 2.0e+03]\n",
      " [1.0e+04 8.0e+00 2.5e+03]\n",
      " [7.5e+03 7.0e+00 2.3e+03]\n",
      " [9.0e+03 6.0e+00 2.4e+03]]\n"
     ]
    }
   ],
   "source": [
    "import numpy as np\n",
    "\n",
    "# Assuming you have PCA object 'pca_3d' with n_components=3\n",
    "# Assuming you have mean_values and std_dev_values used during standardization\n",
    "\n",
    "# Inverse PCA\n",
    "inverse_transformer_3 = pca_3d.inverse_transform(pca_result_3d)  # Replace 'X_pca' with your PCA result\n",
    "print(\"Inverse PCA:\\n\", inverse_transformer_3, \"\\n\")\n",
    "\n",
    "# Inverse Standardization\n",
    "inverse_transformed_data_3 = inverse_transformer_3 * std_dev_values + mean_values\n",
    "print(\"Inverse Standardization:\\n\", inverse_transformed_data_3)\n"
   ]
  },
  {
   "cell_type": "code",
   "execution_count": 24,
   "metadata": {},
   "outputs": [
    {
     "name": "stdout",
     "output_type": "stream",
     "text": [
      "[[-0.2635086   0.27397534 -0.27944083]\n",
      " [-1.58942891 -1.06758431 -1.58710052]\n",
      " [ 1.35277092  1.60526298  1.32558148]\n",
      " [-0.15341101  0.25704033 -0.16621585]\n",
      " [ 0.6535776  -1.06869434  0.70717572]] \n",
      "\n",
      "[[7.74255954e+03 7.00502437e+00 2.23192318e+03]\n",
      " [5.94399372e+03 6.00109305e+00 2.00694490e+03]\n",
      " [9.93498775e+03 8.00126882e+00 2.50806166e+03]\n",
      " [7.89190319e+03 6.99235137e+00 2.25140314e+03]\n",
      " [8.98655579e+03 6.00026239e+00 2.40166711e+03]]\n"
     ]
    }
   ],
   "source": [
    "# สร้าง inverse_transformer จาก PCA object ที่ component=2\n",
    "inverse_transformer_2 = pca_2d.inverse_transform(pca_result_2d)\n",
    "print(inverse_transformer_2,\"\\n\")\n",
    "# Inverse Standardization\n",
    "inverse_transformed_data_2 = inverse_transformer_2 * std_dev_values + mean_values\n",
    "print(inverse_transformed_data_2)\n"
   ]
  },
  {
   "cell_type": "code",
   "execution_count": 25,
   "metadata": {},
   "outputs": [
    {
     "name": "stdout",
     "output_type": "stream",
     "text": [
      "Mean Square Error (MSE): 24224997.09277771\n"
     ]
    }
   ],
   "source": [
    "from sklearn.metrics import mean_squared_error\n",
    "\n",
    "# คำนวณ Mean Square Error (MSE) ระหว่างผลลัพธ์การประมาณกลับข้อมูล และข้อมูลต้นฉบับ\n",
    "mse = mean_squared_error(df_standardized, inverse_transformed_data_3)  # หรือ inverse_transformed_data_2\n",
    "print(\"Mean Square Error (MSE):\", mse)"
   ]
  }
 ],
 "metadata": {
  "kernelspec": {
   "display_name": "ML_Lab",
   "language": "python",
   "name": "python3"
  },
  "language_info": {
   "codemirror_mode": {
    "name": "ipython",
    "version": 3
   },
   "file_extension": ".py",
   "mimetype": "text/x-python",
   "name": "python",
   "nbconvert_exporter": "python",
   "pygments_lexer": "ipython3",
   "version": "3.10.13"
  }
 },
 "nbformat": 4,
 "nbformat_minor": 2
}
