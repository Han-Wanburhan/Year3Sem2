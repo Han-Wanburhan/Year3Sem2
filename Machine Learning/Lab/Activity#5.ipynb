{
 "cells": [
  {
   "cell_type": "code",
   "execution_count": 1,
   "metadata": {},
   "outputs": [
    {
     "name": "stdout",
     "output_type": "stream",
     "text": [
      "Original DataFrame:\n",
      "   Gold Price Increment  Bit_coin Increment\n",
      "0                    -1                 846\n",
      "1                    -4                 424\n",
      "2                     2                1560\n",
      "3                    -3                 523\n",
      "4                     1                1012\n",
      "5                    -2                 663\n",
      "6                     4                1624\n",
      "7                     5                1882\n",
      "8                     2                1263\n",
      "\n",
      "Standardized DataFrame:\n",
      "   Gold Price Increment  Bit_coin Increment Standardized\n",
      "0                    -1                        -0.493265\n",
      "1                    -4                        -1.351452\n",
      "2                     2                         0.958738\n",
      "3                    -3                        -1.150124\n",
      "4                     1                        -0.155685\n",
      "5                    -2                        -0.865418\n",
      "6                     4                         1.088890\n",
      "7                     5                         1.613563\n",
      "8                     2                         0.354753\n"
     ]
    }
   ],
   "source": []
  }
 ],
 "metadata": {
  "kernelspec": {
   "display_name": "ML_Lab",
   "language": "python",
   "name": "python3"
  },
  "language_info": {
   "codemirror_mode": {
    "name": "ipython",
    "version": 3
   },
   "file_extension": ".py",
   "mimetype": "text/x-python",
   "name": "python",
   "nbconvert_exporter": "python",
   "pygments_lexer": "ipython3",
   "version": "3.10.13"
  }
 },
 "nbformat": 4,
 "nbformat_minor": 2
}
